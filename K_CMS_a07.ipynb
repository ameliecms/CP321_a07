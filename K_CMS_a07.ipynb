{
 "cells": [
  {
   "cell_type": "code",
   "execution_count": null,
   "metadata": {},
   "outputs": [],
   "source": [
    "# Link to the dataset: http://127.0.0.1:8052/\n",
    "\n",
    "import pandas as pd\n",
    "import dash \n",
    "from dash import dcc, html, Input, Output\n",
    "import plotly.express as px\n"
   ]
  },
  {
   "cell_type": "code",
   "execution_count": 35,
   "metadata": {},
   "outputs": [
    {
     "data": {
      "text/html": [
       "\n",
       "        <iframe\n",
       "            width=\"100%\"\n",
       "            height=\"650\"\n",
       "            src=\"http://127.0.0.1:8052/\"\n",
       "            frameborder=\"0\"\n",
       "            allowfullscreen\n",
       "            \n",
       "        ></iframe>\n",
       "        "
      ],
      "text/plain": [
       "<IPython.lib.display.IFrame at 0x225f3585ac0>"
      ]
     },
     "metadata": {},
     "output_type": "display_data"
    }
   ],
   "source": [
    "data = {\n",
    "    'Year': [1930, 1934, 1938, 1950, 1954, 1958, 1962, 1966, 1970, 1974, 1978, 1982, 1986, 1990, 1994, 1998, 2002, 2006, 2010, 2014, 2018, 2022],\n",
    "    'Winner': ['Uruguay', 'Italy', 'Italy', 'Uruguay', 'Germany', 'Brazil', 'Brazil', 'England', 'Brazil', 'Germany', 'Argentina', 'Italy', 'Argentina', 'Germany', 'Brazil', 'France', 'Brazil', 'Italy', 'Spain', 'Germany', 'France', 'Argentina'],\n",
    "    'Runner-up': ['Argentina', 'Czechoslovakia', 'Hungary', 'Brazil', 'Hungary', 'Suecia', 'Yugoslavia', 'Germany', 'Italy', 'Netherlands', 'Netherlands', 'Germany', 'Germany', 'Argentina', 'Brazil', 'Brazil', 'Germany', 'France', 'Netherlands', 'Argentina', 'Croatia', 'France']\n",
    "}\n",
    "\n",
    "df=pd.DataFrame(data)\n",
    "\n",
    "\n",
    "win_counts=df['Winner'].value_counts().reset_index()\n",
    "win_counts.columns=['Country','Wins']\n",
    "\n",
    "app=dash.Dash(__name__)\n",
    "\n",
    "app.layout=html.Div([\n",
    "    html.H1(\"FIFA World Cup Winners Dashboard\"),\n",
    "\n",
    "    dcc.Graph(id='world-map'),\n",
    "\n",
    "    html.Label(\"Select a country to view wins: \"),\n",
    "    dcc.Dropdown(\n",
    "        id='country-dropdown',\n",
    "        options=[{'label': country, 'value': country} for country in df['Winner'].unique()],\n",
    "        value='Argentina'\n",
    "    ),\n",
    "    html.Div(id='country-info'),\n",
    "\n",
    "    html.Label(\"Select a year to view winner & runner-up: \"),\n",
    "    dcc.Dropdown(\n",
    "        id='year-dropdown',\n",
    "        options=[{'label': year, 'value': year} for year in df['Year']],\n",
    "        value=2022\n",
    "    ),\n",
    "    html.Div(id='year-info')\n",
    "])\n",
    "\n",
    "@app.callback(\n",
    "    Output('world-map', 'figure'),\n",
    "    Input('country-dropdown', 'value')\n",
    ")\n",
    "def update_map(selected_country):\n",
    "    fig = px.choropleth(\n",
    "        win_counts,  # Data containing country wins\n",
    "        locations='Country',\n",
    "        locationmode='country names',\n",
    "        color='Wins',\n",
    "        hover_name='Country',\n",
    "        title=\"FIFA World Cup Wins by Country\",\n",
    "        color_continuous_scale=\"Blues\"\n",
    "    )\n",
    "    return fig\n",
    "\n",
    "@app.callback(\n",
    "    Output('country-info','children'),\n",
    "    Input('country-dropdown','value')\n",
    ")\n",
    "\n",
    "def display_country_info(country):\n",
    "    wins = (df['Winner'] == country).sum()\n",
    "    return f\"{country} has won {wins} times.\" if wins > 0 else f\"{country} has not won any World Cups.\"\n",
    "\n",
    "@app.callback(\n",
    "    Output('year-info','children'),\n",
    "    Input('year-dropdown','value')\n",
    ")\n",
    "\n",
    "def display_year_info(year):\n",
    "    row=df[df['Year']==year]\n",
    "    \n",
    "    return f\"{year}: Winner - {row['Winner'].values[0]}, Runner-up - {row['Runner-up'].values[0]}\" \n",
    "\n",
    "if __name__ == '__main__':\n",
    "    app.run(debug=True, port=8052)  "
   ]
  }
 ],
 "metadata": {
  "kernelspec": {
   "display_name": "Python 3",
   "language": "python",
   "name": "python3"
  },
  "language_info": {
   "codemirror_mode": {
    "name": "ipython",
    "version": 3
   },
   "file_extension": ".py",
   "mimetype": "text/x-python",
   "name": "python",
   "nbconvert_exporter": "python",
   "pygments_lexer": "ipython3",
   "version": "3.12.1"
  }
 },
 "nbformat": 4,
 "nbformat_minor": 2
}
